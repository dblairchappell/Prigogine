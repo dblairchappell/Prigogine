{
 "metadata": {
  "name": "",
  "signature": "sha256:4961ad909868c8ddf7df5714e0bce7ef0356d2427f55ac1006bf4fd559facce9"
 },
 "nbformat": 3,
 "nbformat_minor": 0,
 "worksheets": []
}